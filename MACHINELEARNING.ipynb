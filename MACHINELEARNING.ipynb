{
 "cells": [
  {
   "cell_type": "code",
   "execution_count": 9,
   "id": "4017250d",
   "metadata": {},
   "outputs": [],
   "source": [
    "import matplotlib.pyplot as plt\n",
    "from sklearn.ensemble import RandomForestRegressor\n",
    "from sklearn.tree import DecisionTreeRegressor\n",
    "import numpy as np\n",
    "import random\n",
    "import csv\n",
    "from sklearn import preprocessing\n",
    "from sklearn.neural_network import MLPRegressor\n",
    "from sklearn.model_selection import train_test_split\n",
    "from sklearn.metrics import mean_squared_error\n",
    "from sklearn.metrics import r2_score\n",
    "import time \n",
    "import pickle"
   ]
  },
  {
   "cell_type": "code",
   "execution_count": 10,
   "id": "493fbc31",
   "metadata": {},
   "outputs": [],
   "source": [
    "X = []\n",
    "with open('cases_R2.csv','r') as csvfile:\n",
    "    read = csv.reader(csvfile, delimiter = ',')\n",
    "    for x in read:\n",
    "        X.append(x)\n",
    "\n",
    "\n",
    "X_train = []\n",
    "for i in X:\n",
    "    X_train.append([float(j) for j in i])"
   ]
  },
  {
   "cell_type": "code",
   "execution_count": 11,
   "id": "fb46bdaa",
   "metadata": {},
   "outputs": [],
   "source": [
    "Y = []\n",
    "with open('label2.csv','r') as csvfile:\n",
    "    read = csv.reader(csvfile, delimiter = ',')\n",
    "    for y in read:\n",
    "        Y.append(y)\n",
    "\n",
    "y_train = []\n",
    "for i in range(len(Y)):\n",
    "    for i in Y[i]:\n",
    "        y_train.append(float(i))"
   ]
  },
  {
   "cell_type": "code",
   "execution_count": 12,
   "id": "fbb79311",
   "metadata": {},
   "outputs": [],
   "source": [
    "#X_train, X_test, y_train, y_test = train_test_split (X_train, y_train, test_size=0, random_state=0)\n",
    "\n",
    "\n",
    "\n",
    "\n",
    "\n"
   ]
  },
  {
   "cell_type": "code",
   "execution_count": 13,
   "id": "92d06db0",
   "metadata": {},
   "outputs": [],
   "source": [
    "\n",
    "\n",
    "MLP = RandomForestRegressor(n_estimators= 1000)\n",
    "MLP = MLP.fit(X_train,y_train)\n",
    "\n",
    "\n"
   ]
  },
  {
   "cell_type": "code",
   "execution_count": 14,
   "id": "5955e358",
   "metadata": {},
   "outputs": [],
   "source": [
    "with open ('model_pickle', 'wb') as f:\n",
    "    pickle.dump(MLP, f)"
   ]
  },
  {
   "cell_type": "code",
   "execution_count": 15,
   "id": "27e37859",
   "metadata": {},
   "outputs": [],
   "source": [
    "MLP = pickle.load(open(\"model_pickle\", 'rb'))"
   ]
  },
  {
   "cell_type": "code",
   "execution_count": 16,
   "id": "ab31a2c8",
   "metadata": {},
   "outputs": [
    {
     "name": "stdout",
     "output_type": "stream",
     "text": [
      "[-14.6385]\n"
     ]
    }
   ],
   "source": [
    "array = [X_train[4]]\n",
    "y_pred = MLP.predict(array)\n",
    "print(y_pred)"
   ]
  },
  {
   "cell_type": "code",
   "execution_count": null,
   "id": "b2b98d8b",
   "metadata": {},
   "outputs": [],
   "source": []
  },
  {
   "cell_type": "code",
   "execution_count": null,
   "id": "ded08ba2",
   "metadata": {},
   "outputs": [],
   "source": []
  }
 ],
 "metadata": {
  "kernelspec": {
   "display_name": "Python 3 (ipykernel)",
   "language": "python",
   "name": "python3"
  },
  "language_info": {
   "codemirror_mode": {
    "name": "ipython",
    "version": 3
   },
   "file_extension": ".py",
   "mimetype": "text/x-python",
   "name": "python",
   "nbconvert_exporter": "python",
   "pygments_lexer": "ipython3",
   "version": "3.8.10"
  }
 },
 "nbformat": 4,
 "nbformat_minor": 5
}
