{
 "cells": [
  {
   "cell_type": "code",
   "execution_count": 1,
   "id": "fdb86cc0",
   "metadata": {},
   "outputs": [],
   "source": [
    "import matplotlib.pyplot as plt\n",
    "import numpy as np\n",
    "import random\n",
    "import csv\n",
    "from sklearn.ensemble import RandomForestClassifier"
   ]
  },
  {
   "cell_type": "code",
   "execution_count": 9,
   "id": "28417aca",
   "metadata": {},
   "outputs": [],
   "source": [
    "N = 1000\n",
    "r_max = 700 #in mm\n",
    "r_min = 350\n",
    "X = [[]*2]*N\n",
    "count = 0\n",
    "\n",
    "while count <= N-1:\n",
    "    x = random.randrange(-r_max,r_max) \n",
    "    y = random.randrange(0,r_max)\n",
    "    dis = np.sqrt(x**2 +y**2)\n",
    "    if dis <= r_max and dis >= r_min:\n",
    "        theta = np.arctan(y/x)\n",
    "        if theta < 0:\n",
    "            theta += np.pi\n",
    "        theta *= 180/np.pi\n",
    "        X[count] = [x*0.1,y*0.1,theta]\n",
    "        count += 1\n"
   ]
  },
  {
   "cell_type": "code",
   "execution_count": 7,
   "id": "9c65e940",
   "metadata": {},
   "outputs": [],
   "source": [
    "\n",
    "cases = 350 #may need to add cases_1\n",
    "cases_R = []\n",
    "R = []\n",
    "for i in range(cases):\n",
    "    R.append(random.randrange(1,4))\n",
    "    cases_R.append(random.sample(X, R[i]))\n",
    "    "
   ]
  },
  {
   "cell_type": "code",
   "execution_count": 8,
   "id": "c09f1539",
   "metadata": {},
   "outputs": [],
   "source": [
    "with open('cases_R.csv', 'w', newline='') as file:\n",
    "    writer = csv.writer(file)\n",
    "    field = [\"X\", \"Y\"]\n",
    "    for i in range(cases):\n",
    "        row = []\n",
    "        for j in range(R[i]):\n",
    "            row += cases_R[i][j]\n",
    "        if R[i] == 1:\n",
    "            row += [0] + [0] + [0] + [0] + [0] + [0]\n",
    "        if R[i] == 2:\n",
    "            row += [0] + [0] + [0]\n",
    "        writer.writerow(row)\n",
    "         "
   ]
  },
  {
   "cell_type": "markdown",
   "id": "956fba70",
   "metadata": {},
   "source": [
    "Will be seperated here later for actual running purposes."
   ]
  },
  {
   "cell_type": "code",
   "execution_count": null,
   "id": "6e006f8c",
   "metadata": {},
   "outputs": [],
   "source": [
    "x = []\n",
    "with open('cases_R.csv','r') as csvfile:\n",
    "    plots = csv.reader(csvfile, delimiter = ',')\n",
    "      \n",
    "    for row in plots:\n",
    "        x.append(row)\n",
    "        #plt.scatter(x,y)\n",
    "        #plt.xlim(-700, 700)\n",
    "        #plt.ylim(-700, 700)\n",
    "        #plt.figure()\n",
    "\n",
    "X_train = []   \n",
    "for i in range(len(x)):\n",
    "    X_train.append([int(i) for i in x[i]])\n",
    "  "
   ]
  },
  {
   "cell_type": "markdown",
   "id": "edbc5e4f",
   "metadata": {},
   "source": [
    "## "
   ]
  },
  {
   "cell_type": "code",
   "execution_count": null,
   "id": "f0c0e8e5",
   "metadata": {},
   "outputs": [
    {
     "name": "stdout",
     "output_type": "stream",
     "text": [
      "[1 4 2 1 3 2 2 4 4 4]\n"
     ]
    }
   ],
   "source": [
    "y_train = [1,4,2,1,3,2,2,4,4,4] #manually input \n",
    "rfc = RandomForestClassifier()\n",
    "rfc.fit(X_train, y_train)\n",
    "y_pred = rfc.predict(X_train)\n",
    "print(y_pred)"
   ]
  },
  {
   "cell_type": "markdown",
   "id": "6a2022f7",
   "metadata": {},
   "source": [
    "prediction of test."
   ]
  },
  {
   "cell_type": "code",
   "execution_count": null,
   "id": "c9445c6f",
   "metadata": {},
   "outputs": [],
   "source": [
    "cases_2 = []\n",
    "cases_3 = []\n",
    "for i in range(cases):\n",
    "    cases_2.append(random.sample(X, 2))\n",
    "    cases_3.append(random.sample(X, 3))\n"
   ]
  },
  {
   "cell_type": "code",
   "execution_count": null,
   "id": "cfa3b82b",
   "metadata": {},
   "outputs": [],
   "source": [
    "with open('cases_2_test.csv', 'w', newline='') as file:\n",
    "    writer = csv.writer(file)\n",
    "    field = [\"X\", \"Y\"]\n",
    "    for i in range(cases):\n",
    "        writer.writerow(cases_2[i][0] + cases_2[i][1])\n",
    "        \n",
    "with open('cases_3_test.csv', 'w', newline='') as file:\n",
    "    writer = csv.writer(file)\n",
    "    field = [\"X\", \"Y\"]\n",
    "    for i in range(cases):\n",
    "        writer.writerow(cases_3[i][0] + cases_3[i][1] + cases_3[i][2])"
   ]
  },
  {
   "cell_type": "markdown",
   "id": "0b159527",
   "metadata": {},
   "source": []
  },
  {
   "cell_type": "code",
   "execution_count": null,
   "id": "f22a67da",
   "metadata": {},
   "outputs": [
    {
     "name": "stdout",
     "output_type": "stream",
     "text": [
      "[1 1 4 1 4 4 2 4 3 4]\n"
     ]
    }
   ],
   "source": [
    "x_test = []\n",
    "with open('cases_2_test.csv','r') as csvfile:\n",
    "    plots = csv.reader(csvfile, delimiter = ',')\n",
    "      \n",
    "    for row in plots:\n",
    "        x_test.append(row)\n",
    "        \n",
    "correct = [1,4,3,4,4,4,3,4,1]\n",
    "y_pred = rfc.predict(x_test)\n",
    "print(y_pred)\n"
   ]
  },
  {
   "cell_type": "code",
   "execution_count": null,
   "id": "041fd307",
   "metadata": {},
   "outputs": [],
   "source": []
  },
  {
   "cell_type": "code",
   "execution_count": null,
   "id": "cdab5678",
   "metadata": {},
   "outputs": [],
   "source": []
  }
 ],
 "metadata": {
  "kernelspec": {
   "display_name": "Python 3 (ipykernel)",
   "language": "python",
   "name": "python3"
  },
  "language_info": {
   "codemirror_mode": {
    "name": "ipython",
    "version": 3
   },
   "file_extension": ".py",
   "mimetype": "text/x-python",
   "name": "python",
   "nbconvert_exporter": "python",
   "pygments_lexer": "ipython3",
   "version": "3.8.10"
  }
 },
 "nbformat": 4,
 "nbformat_minor": 5
}
